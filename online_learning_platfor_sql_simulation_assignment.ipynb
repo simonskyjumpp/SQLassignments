{
  "nbformat": 4,
  "nbformat_minor": 0,
  "metadata": {
    "colab": {
      "provenance": [],
      "authorship_tag": "ABX9TyODIrVPUkmMQd9n2IxE+a16",
      "include_colab_link": true
    },
    "kernelspec": {
      "name": "python3",
      "display_name": "Python 3"
    },
    "language_info": {
      "name": "python"
    }
  },
  "cells": [
    {
      "cell_type": "markdown",
      "metadata": {
        "id": "view-in-github",
        "colab_type": "text"
      },
      "source": [
        "<a href=\"https://colab.research.google.com/github/simonskyjumpp/SQLassignments/blob/main/online_learning_platfor_sql_simulation_assignment.ipynb\" target=\"_parent\"><img src=\"https://colab.research.google.com/assets/colab-badge.svg\" alt=\"Open In Colab\"/></a>"
      ]
    },
    {
      "cell_type": "code",
      "execution_count": null,
      "metadata": {
        "colab": {
          "base_uri": "https://localhost:8080/",
          "height": 90
        },
        "id": "2XaZwnsXma-x",
        "outputId": "d2d770e5-c738-4507-dbde-14711b6e9400"
      },
      "outputs": [
        {
          "output_type": "display_data",
          "data": {
            "text/plain": [
              "<IPython.core.display.HTML object>"
            ],
            "text/html": [
              "\n",
              "     <input type=\"file\" id=\"files-94973f9f-69f6-4756-9b8b-7b51ce969b4e\" name=\"files[]\" multiple disabled\n",
              "        style=\"border:none\" />\n",
              "     <output id=\"result-94973f9f-69f6-4756-9b8b-7b51ce969b4e\">\n",
              "      Upload widget is only available when the cell has been executed in the\n",
              "      current browser session. Please rerun this cell to enable.\n",
              "      </output>\n",
              "      <script>// Copyright 2017 Google LLC\n",
              "//\n",
              "// Licensed under the Apache License, Version 2.0 (the \"License\");\n",
              "// you may not use this file except in compliance with the License.\n",
              "// You may obtain a copy of the License at\n",
              "//\n",
              "//      http://www.apache.org/licenses/LICENSE-2.0\n",
              "//\n",
              "// Unless required by applicable law or agreed to in writing, software\n",
              "// distributed under the License is distributed on an \"AS IS\" BASIS,\n",
              "// WITHOUT WARRANTIES OR CONDITIONS OF ANY KIND, either express or implied.\n",
              "// See the License for the specific language governing permissions and\n",
              "// limitations under the License.\n",
              "\n",
              "/**\n",
              " * @fileoverview Helpers for google.colab Python module.\n",
              " */\n",
              "(function(scope) {\n",
              "function span(text, styleAttributes = {}) {\n",
              "  const element = document.createElement('span');\n",
              "  element.textContent = text;\n",
              "  for (const key of Object.keys(styleAttributes)) {\n",
              "    element.style[key] = styleAttributes[key];\n",
              "  }\n",
              "  return element;\n",
              "}\n",
              "\n",
              "// Max number of bytes which will be uploaded at a time.\n",
              "const MAX_PAYLOAD_SIZE = 100 * 1024;\n",
              "\n",
              "function _uploadFiles(inputId, outputId) {\n",
              "  const steps = uploadFilesStep(inputId, outputId);\n",
              "  const outputElement = document.getElementById(outputId);\n",
              "  // Cache steps on the outputElement to make it available for the next call\n",
              "  // to uploadFilesContinue from Python.\n",
              "  outputElement.steps = steps;\n",
              "\n",
              "  return _uploadFilesContinue(outputId);\n",
              "}\n",
              "\n",
              "// This is roughly an async generator (not supported in the browser yet),\n",
              "// where there are multiple asynchronous steps and the Python side is going\n",
              "// to poll for completion of each step.\n",
              "// This uses a Promise to block the python side on completion of each step,\n",
              "// then passes the result of the previous step as the input to the next step.\n",
              "function _uploadFilesContinue(outputId) {\n",
              "  const outputElement = document.getElementById(outputId);\n",
              "  const steps = outputElement.steps;\n",
              "\n",
              "  const next = steps.next(outputElement.lastPromiseValue);\n",
              "  return Promise.resolve(next.value.promise).then((value) => {\n",
              "    // Cache the last promise value to make it available to the next\n",
              "    // step of the generator.\n",
              "    outputElement.lastPromiseValue = value;\n",
              "    return next.value.response;\n",
              "  });\n",
              "}\n",
              "\n",
              "/**\n",
              " * Generator function which is called between each async step of the upload\n",
              " * process.\n",
              " * @param {string} inputId Element ID of the input file picker element.\n",
              " * @param {string} outputId Element ID of the output display.\n",
              " * @return {!Iterable<!Object>} Iterable of next steps.\n",
              " */\n",
              "function* uploadFilesStep(inputId, outputId) {\n",
              "  const inputElement = document.getElementById(inputId);\n",
              "  inputElement.disabled = false;\n",
              "\n",
              "  const outputElement = document.getElementById(outputId);\n",
              "  outputElement.innerHTML = '';\n",
              "\n",
              "  const pickedPromise = new Promise((resolve) => {\n",
              "    inputElement.addEventListener('change', (e) => {\n",
              "      resolve(e.target.files);\n",
              "    });\n",
              "  });\n",
              "\n",
              "  const cancel = document.createElement('button');\n",
              "  inputElement.parentElement.appendChild(cancel);\n",
              "  cancel.textContent = 'Cancel upload';\n",
              "  const cancelPromise = new Promise((resolve) => {\n",
              "    cancel.onclick = () => {\n",
              "      resolve(null);\n",
              "    };\n",
              "  });\n",
              "\n",
              "  // Wait for the user to pick the files.\n",
              "  const files = yield {\n",
              "    promise: Promise.race([pickedPromise, cancelPromise]),\n",
              "    response: {\n",
              "      action: 'starting',\n",
              "    }\n",
              "  };\n",
              "\n",
              "  cancel.remove();\n",
              "\n",
              "  // Disable the input element since further picks are not allowed.\n",
              "  inputElement.disabled = true;\n",
              "\n",
              "  if (!files) {\n",
              "    return {\n",
              "      response: {\n",
              "        action: 'complete',\n",
              "      }\n",
              "    };\n",
              "  }\n",
              "\n",
              "  for (const file of files) {\n",
              "    const li = document.createElement('li');\n",
              "    li.append(span(file.name, {fontWeight: 'bold'}));\n",
              "    li.append(span(\n",
              "        `(${file.type || 'n/a'}) - ${file.size} bytes, ` +\n",
              "        `last modified: ${\n",
              "            file.lastModifiedDate ? file.lastModifiedDate.toLocaleDateString() :\n",
              "                                    'n/a'} - `));\n",
              "    const percent = span('0% done');\n",
              "    li.appendChild(percent);\n",
              "\n",
              "    outputElement.appendChild(li);\n",
              "\n",
              "    const fileDataPromise = new Promise((resolve) => {\n",
              "      const reader = new FileReader();\n",
              "      reader.onload = (e) => {\n",
              "        resolve(e.target.result);\n",
              "      };\n",
              "      reader.readAsArrayBuffer(file);\n",
              "    });\n",
              "    // Wait for the data to be ready.\n",
              "    let fileData = yield {\n",
              "      promise: fileDataPromise,\n",
              "      response: {\n",
              "        action: 'continue',\n",
              "      }\n",
              "    };\n",
              "\n",
              "    // Use a chunked sending to avoid message size limits. See b/62115660.\n",
              "    let position = 0;\n",
              "    do {\n",
              "      const length = Math.min(fileData.byteLength - position, MAX_PAYLOAD_SIZE);\n",
              "      const chunk = new Uint8Array(fileData, position, length);\n",
              "      position += length;\n",
              "\n",
              "      const base64 = btoa(String.fromCharCode.apply(null, chunk));\n",
              "      yield {\n",
              "        response: {\n",
              "          action: 'append',\n",
              "          file: file.name,\n",
              "          data: base64,\n",
              "        },\n",
              "      };\n",
              "\n",
              "      let percentDone = fileData.byteLength === 0 ?\n",
              "          100 :\n",
              "          Math.round((position / fileData.byteLength) * 100);\n",
              "      percent.textContent = `${percentDone}% done`;\n",
              "\n",
              "    } while (position < fileData.byteLength);\n",
              "  }\n",
              "\n",
              "  // All done.\n",
              "  yield {\n",
              "    response: {\n",
              "      action: 'complete',\n",
              "    }\n",
              "  };\n",
              "}\n",
              "\n",
              "scope.google = scope.google || {};\n",
              "scope.google.colab = scope.google.colab || {};\n",
              "scope.google.colab._files = {\n",
              "  _uploadFiles,\n",
              "  _uploadFilesContinue,\n",
              "};\n",
              "})(self);\n",
              "</script> "
            ]
          },
          "metadata": {}
        },
        {
          "output_type": "stream",
          "name": "stdout",
          "text": [
            "Saving term IIII end assignment online learning platform dataset.xlsx to term IIII end assignment online learning platform dataset.xlsx\n"
          ]
        }
      ],
      "source": [
        "from google.colab import files\n",
        "\n",
        "uploaded = files.upload()"
      ]
    },
    {
      "cell_type": "code",
      "source": [
        "import pandas as pd\n",
        "\n",
        "file_name = \"term IIII end assignment online learning platform dataset.xlsx\""
      ],
      "metadata": {
        "id": "tR7JOJabnnVW"
      },
      "execution_count": null,
      "outputs": []
    },
    {
      "cell_type": "code",
      "source": [
        "dfs = pd.read_excel(file_name, sheet_name=None)"
      ],
      "metadata": {
        "id": "2AU-25zznyZJ"
      },
      "execution_count": null,
      "outputs": []
    },
    {
      "cell_type": "code",
      "source": [
        "print(\"Sheets in the file:\", dfs.keys())"
      ],
      "metadata": {
        "colab": {
          "base_uri": "https://localhost:8080/"
        },
        "id": "nMjRYGdVn05k",
        "outputId": "8d45810d-32ff-42d9-8867-1789f5a77f76"
      },
      "execution_count": null,
      "outputs": [
        {
          "output_type": "stream",
          "name": "stdout",
          "text": [
            "Sheets in the file: dict_keys(['Students', 'Courses', 'Instructors', 'Enrollments', 'Assignments', 'Quizzes'])\n"
          ]
        }
      ]
    },
    {
      "cell_type": "code",
      "source": [
        "import sqlite3"
      ],
      "metadata": {
        "id": "j_tkl1vUn9-v"
      },
      "execution_count": null,
      "outputs": []
    },
    {
      "cell_type": "code",
      "source": [
        "conn = sqlite3.connect(\"file_name\")"
      ],
      "metadata": {
        "id": "_H4hPfgooAyQ"
      },
      "execution_count": null,
      "outputs": []
    },
    {
      "cell_type": "code",
      "source": [
        "for sheet, df in dfs.items():\n",
        "    df.to_sql(sheet, conn, index=False, if_exists=\"replace\")"
      ],
      "metadata": {
        "id": "9S3YHPwBoFst"
      },
      "execution_count": null,
      "outputs": []
    },
    {
      "cell_type": "code",
      "source": [
        "print(\"Database created with tables:\", dfs.keys())"
      ],
      "metadata": {
        "colab": {
          "base_uri": "https://localhost:8080/"
        },
        "id": "DlyEgCMVoGlY",
        "outputId": "a42fa9f2-e2b2-4de8-a0a0-d40daf332a1f"
      },
      "execution_count": null,
      "outputs": [
        {
          "output_type": "stream",
          "name": "stdout",
          "text": [
            "Database created with tables: dict_keys(['Students', 'Courses', 'Instructors', 'Enrollments', 'Assignments', 'Quizzes'])\n"
          ]
        }
      ]
    },
    {
      "cell_type": "code",
      "source": [
        "query = \"SELECT * FROM Students LIMIT 5;\"\n",
        "\n",
        "df_sql = pd.read_sql(query, conn)\n",
        "print(df_sql)"
      ],
      "metadata": {
        "colab": {
          "base_uri": "https://localhost:8080/"
        },
        "id": "ty6Sr_RroOmG",
        "outputId": "befe24d2-6332-4fb0-de80-f0572087027e"
      },
      "execution_count": null,
      "outputs": [
        {
          "output_type": "stream",
          "name": "stdout",
          "text": [
            "   StudentID FirstName LastName                     Email  \\\n",
            "0          1       Raj   Sharma    raj.sharma@example.com   \n",
            "1          2     Priya    Singh   priya.singh@example.com   \n",
            "2          3      Amit    Kumar    amit.kumar@example.com   \n",
            "3          4    Anjali    Verma  anjali.verma@example.com   \n",
            "4          5     Rohit    Gupta   rohit.gupta@example.com   \n",
            "\n",
            "        EnrollmentDate Country  \n",
            "0  2023-01-10 00:00:00   India  \n",
            "1  2023-02-15 00:00:00   India  \n",
            "2  2023-03-20 00:00:00   India  \n",
            "3  2023-04-05 00:00:00   India  \n",
            "4  2023-05-10 00:00:00   India  \n"
          ]
        }
      ]
    },
    {
      "cell_type": "code",
      "source": [
        "query = \"SELECT * FROM Enrollments LIMIT 5;\"\n",
        "df_sql = pd.read_sql(query, conn)\n",
        "print(df_sql)"
      ],
      "metadata": {
        "colab": {
          "base_uri": "https://localhost:8080/"
        },
        "id": "s33z_1A2OaJl",
        "outputId": "03b869cb-d80e-4b59-bf0d-c4ed77c4b156"
      },
      "execution_count": null,
      "outputs": [
        {
          "output_type": "stream",
          "name": "stdout",
          "text": [
            "   EnrollmentID  StudentID  CourseID       EnrollmentDate  Progress    Status\n",
            "0           301          1       101  2023-01-15 00:00:00      0.75  Enrolled\n",
            "1           302          2       102  2023-02-20 00:00:00      0.60  Enrolled\n",
            "2           303          3       103  2023-03-25 00:00:00      0.80  Enrolled\n",
            "3           304          4       104  2023-04-10 00:00:00      0.50  Enrolled\n",
            "4           305          5       105  2023-05-15 00:00:00      0.90  Enrolled\n"
          ]
        }
      ]
    },
    {
      "cell_type": "code",
      "source": [
        "# Query 1: Names of students, courses, and grades\n",
        "query1 = \"\"\"\n",
        "SELECT\n",
        "    s.FirstName || ' ' || s.LastName AS StudentName,\n",
        "    c.CourseName,\n",
        "    e.Progress AS Grade\n",
        "FROM\n",
        "    Students s\n",
        "JOIN\n",
        "    Enrollments e ON s.StudentID = e.StudentID\n",
        "JOIN\n",
        "    Courses c ON e.CourseID = c.CourseID;\n",
        "\"\"\"\n",
        "df1 = pd.read_sql_query(query1, conn)\n",
        "print(\"Query 1 Results:\")\n",
        "print(df1)"
      ],
      "metadata": {
        "colab": {
          "base_uri": "https://localhost:8080/"
        },
        "id": "xC3jtUYIO4Sa",
        "outputId": "e28eafb1-054a-42cd-f6ab-c2285b254af7"
      },
      "execution_count": null,
      "outputs": [
        {
          "output_type": "stream",
          "name": "stdout",
          "text": [
            "Query 1 Results:\n",
            "    StudentName             CourseName  Grade\n",
            "0    Raj Sharma    Introduction to SQL   0.75\n",
            "1   Priya Singh           Advanced SQL   0.60\n",
            "2    Amit Kumar          Data Modeling   0.80\n",
            "3  Anjali Verma      Database Security   0.50\n",
            "4   Rohit Gupta  SQL for Data Analysis   0.90\n",
            "5   Sneha Reddy        NoSQL Databases   0.70\n"
          ]
        }
      ]
    },
    {
      "cell_type": "code",
      "source": [
        "# Query 2: Names of students, submitted assignments, and due dates\n",
        "query2 = \"\"\"\n",
        "SELECT\n",
        "    s.FirstName || ' ' || s.LastName AS StudentName,\n",
        "    a.Title AS AssignmentTitle,\n",
        "    a.DueDate\n",
        "FROM\n",
        "    Students s\n",
        "JOIN\n",
        "    Enrollments e ON s.StudentID = e.StudentID\n",
        "JOIN\n",
        "    Courses c ON e.CourseID = c.CourseID\n",
        "JOIN\n",
        "    Assignments a ON c.CourseID = a.CourseID\n",
        "WHERE a.SubmissionDate IS NOT NULL;\n",
        "\"\"\"\n",
        "df2 = pd.read_sql_query(query2, conn)\n",
        "print(\"\\nQuery 2 Results:\")\n",
        "print(df2)"
      ],
      "metadata": {
        "colab": {
          "base_uri": "https://localhost:8080/"
        },
        "id": "XKAFw9JlTtjK",
        "outputId": "53faed8a-b38d-4ddf-e871-12ec96b9542c"
      },
      "execution_count": null,
      "outputs": [
        {
          "output_type": "stream",
          "name": "stdout",
          "text": [
            "\n",
            "Query 2 Results:\n",
            "    StudentName        AssignmentTitle              DueDate\n",
            "0    Raj Sharma  SQL Basics Assignment  2023-03-01 00:00:00\n",
            "1   Priya Singh   Advanced SQL Queries  2023-04-01 00:00:00\n",
            "2    Amit Kumar  Data Modeling Project  2023-05-01 00:00:00\n",
            "3  Anjali Verma      Security Measures  2023-06-01 00:00:00\n",
            "4   Rohit Gupta   Data Analysis Report  2023-07-01 00:00:00\n",
            "5   Sneha Reddy           NoSQL vs SQL  2023-08-01 00:00:00\n"
          ]
        }
      ]
    },
    {
      "cell_type": "code",
      "source": [
        "# Query 3: Names of students, submitted assignments, and submission dates\n",
        "query3 = \"\"\"\n",
        "SELECT\n",
        "    s.FirstName || ' ' || s.LastName AS StudentName,\n",
        "    a.Title AS AssignmentTitle,\n",
        "    a.SubmissionDate\n",
        "FROM\n",
        "    Students s\n",
        "JOIN\n",
        "    Enrollments e ON s.StudentID = e.StudentID\n",
        "JOIN\n",
        "    Courses c ON e.CourseID = c.CourseID\n",
        "JOIN\n",
        "    Assignments a ON c.CourseID = a.CourseID\n",
        "WHERE a.SubmissionDate IS NOT NULL;\n",
        "\"\"\"\n",
        "df3 = pd.read_sql_query(query3, conn)\n",
        "print(\"\\nQuery 3 Results:\")\n",
        "print(df3)"
      ],
      "metadata": {
        "colab": {
          "base_uri": "https://localhost:8080/"
        },
        "id": "6UqSA-wKVKqh",
        "outputId": "080dcdff-300d-45b8-8e04-5730f5449236"
      },
      "execution_count": null,
      "outputs": [
        {
          "output_type": "stream",
          "name": "stdout",
          "text": [
            "\n",
            "Query 3 Results:\n",
            "    StudentName        AssignmentTitle       SubmissionDate\n",
            "0    Raj Sharma  SQL Basics Assignment  2023-02-28 00:00:00\n",
            "1   Priya Singh   Advanced SQL Queries  2023-03-30 00:00:00\n",
            "2    Amit Kumar  Data Modeling Project  2023-04-28 00:00:00\n",
            "3  Anjali Verma      Security Measures  2023-05-30 00:00:00\n",
            "4   Rohit Gupta   Data Analysis Report  2023-06-28 00:00:00\n",
            "5   Sneha Reddy           NoSQL vs SQL  2023-07-30 00:00:00\n"
          ]
        }
      ]
    },
    {
      "cell_type": "code",
      "source": [
        "# Query 4: Names of students and average assignment scores (> 85)\n",
        "query4 = \"\"\"\n",
        "SELECT\n",
        "    s.FirstName || ' ' || s.LastName AS StudentName,\n",
        "    AVG(a.MaxScore) AS AverageAssignmentScore\n",
        "FROM\n",
        "    Students s\n",
        "JOIN\n",
        "    Enrollments e ON s.StudentID = e.StudentID\n",
        "JOIN\n",
        "    Courses c ON e.CourseID = c.CourseID\n",
        "JOIN\n",
        "    Assignments a ON c.CourseID = a.CourseID\n",
        "WHERE a.SubmissionDate IS NOT NULL\n",
        "GROUP BY\n",
        "    s.StudentID, s.FirstName, s.LastName\n",
        "HAVING\n",
        "    AVG(a.MaxScore) > 85;\n",
        "\"\"\"\n",
        "df4 = pd.read_sql_query(query4, conn)\n",
        "print(\"\\nQuery 4 Results:\")\n",
        "print(df4)"
      ],
      "metadata": {
        "colab": {
          "base_uri": "https://localhost:8080/"
        },
        "id": "s4Bh3YYIVv1g",
        "outputId": "08e546fd-9452-4712-89d4-221717f2b0c7"
      },
      "execution_count": null,
      "outputs": [
        {
          "output_type": "stream",
          "name": "stdout",
          "text": [
            "\n",
            "Query 4 Results:\n",
            "    StudentName  AverageAssignmentScore\n",
            "0    Raj Sharma                   100.0\n",
            "1   Priya Singh                   100.0\n",
            "2    Amit Kumar                   100.0\n",
            "3  Anjali Verma                   100.0\n",
            "4   Rohit Gupta                   100.0\n",
            "5   Sneha Reddy                   100.0\n"
          ]
        }
      ]
    },
    {
      "cell_type": "code",
      "source": [
        "# Query 5: Names of students and their total progress (> 200%)\n",
        "query5 = \"\"\"\n",
        "SELECT\n",
        "    s.FirstName || ' ' || s.LastName AS StudentName,\n",
        "    SUM(e.Progress) AS TotalProgress\n",
        "FROM\n",
        "    Students s\n",
        "JOIN\n",
        "    Enrollments e ON s.StudentID = e.StudentID\n",
        "GROUP BY\n",
        "    s.StudentID, s.FirstName, s.LastName\n",
        "HAVING\n",
        "    SUM(e.Progress) > 200;\n",
        "\"\"\"\n",
        "df5 = pd.read_sql_query(query5, conn)\n",
        "print(\"Query 5 Results:\")\n",
        "print(df5)"
      ],
      "metadata": {
        "colab": {
          "base_uri": "https://localhost:8080/"
        },
        "id": "YyKghrTvWbFI",
        "outputId": "a5529192-3094-44c6-b9b0-4292e8ce1808"
      },
      "execution_count": null,
      "outputs": [
        {
          "output_type": "stream",
          "name": "stdout",
          "text": [
            "Query 5 Results:\n",
            "Empty DataFrame\n",
            "Columns: [StudentName, TotalProgress]\n",
            "Index: []\n"
          ]
        }
      ]
    },
    {
      "cell_type": "code",
      "source": [
        "# Query 6: Names of students who submitted assignments for \"Advanced SQL\"\n",
        "query6 = \"\"\"\n",
        "SELECT DISTINCT\n",
        "    s.FirstName || ' ' || s.LastName AS StudentName\n",
        "FROM\n",
        "    Students s\n",
        "JOIN\n",
        "    Enrollments e ON s.StudentID = e.StudentID\n",
        "JOIN\n",
        "    Courses c ON e.CourseID = c.CourseID\n",
        "JOIN\n",
        "    Assignments a ON c.CourseID = a.CourseID\n",
        "WHERE\n",
        "    c.CourseName = 'Advanced SQL' AND a.SubmissionDate IS NOT NULL;\n",
        "\"\"\"\n",
        "df6 = pd.read_sql_query(query6, conn)\n",
        "print(\"Query 6 Results:\")\n",
        "print(df6)"
      ],
      "metadata": {
        "colab": {
          "base_uri": "https://localhost:8080/"
        },
        "id": "flb-PRiYXbYs",
        "outputId": "a248fa31-ba85-47bd-d27a-e5d4645a2835"
      },
      "execution_count": null,
      "outputs": [
        {
          "output_type": "stream",
          "name": "stdout",
          "text": [
            "Query 6 Results:\n",
            "   StudentName\n",
            "0  Priya Singh\n"
          ]
        }
      ]
    },
    {
      "cell_type": "code",
      "source": [
        "# Query 7: Email addresses of students with progress > 70% in any course\n",
        "query7 = \"\"\"\n",
        "SELECT DISTINCT\n",
        "    s.Email\n",
        "FROM\n",
        "    Students s\n",
        "JOIN\n",
        "    Enrollments e ON s.StudentID = e.StudentID\n",
        "WHERE\n",
        "    e.Progress > 0.7;\n",
        "\"\"\"\n",
        "df7 = pd.read_sql_query(query7, conn)\n",
        "print(\"Query 7 Results:\")\n",
        "print(df7)"
      ],
      "metadata": {
        "colab": {
          "base_uri": "https://localhost:8080/"
        },
        "id": "4Fj4BWhvX4SV",
        "outputId": "58153f61-5e35-4047-b367-8c8f4ef95c75"
      },
      "execution_count": null,
      "outputs": [
        {
          "output_type": "stream",
          "name": "stdout",
          "text": [
            "Query 7 Results:\n",
            "                     Email\n",
            "0   raj.sharma@example.com\n",
            "1   amit.kumar@example.com\n",
            "2  rohit.gupta@example.com\n"
          ]
        }
      ]
    },
    {
      "cell_type": "code",
      "source": [
        "# Query 8: Students enrolled in courses taught by Anil Kapoor or Kavita Iyer\n",
        "query8 = \"\"\"\n",
        "SELECT DISTINCT\n",
        "    s.FirstName || ' ' || s.LastName AS StudentName\n",
        "FROM\n",
        "    Students s\n",
        "JOIN\n",
        "    Enrollments e ON s.StudentID = e.StudentID\n",
        "JOIN\n",
        "    Courses c ON e.CourseID = c.CourseID\n",
        "JOIN\n",
        "    Instructors i ON c.InstructorID = i.InstructorID\n",
        "WHERE\n",
        "    (i.FirstName = 'Anil' AND i.LastName = 'Kapoor')\n",
        "    OR (i.FirstName = 'Kavita' AND i.LastName = 'Iyer');\n",
        "\"\"\"\n",
        "df8 = pd.read_sql_query(query8, conn)\n",
        "print(\"Query 8 Results:\")\n",
        "print(df8)"
      ],
      "metadata": {
        "colab": {
          "base_uri": "https://localhost:8080/"
        },
        "id": "9iP1yQyWZRtS",
        "outputId": "54e89b9e-df88-4bf7-ce42-656a21e38212"
      },
      "execution_count": null,
      "outputs": [
        {
          "output_type": "stream",
          "name": "stdout",
          "text": [
            "Query 8 Results:\n",
            "   StudentName\n",
            "0   Raj Sharma\n",
            "1  Sneha Reddy\n"
          ]
        }
      ]
    },
    {
      "cell_type": "code",
      "source": [
        "# Query 9: Students enrolled between January 1, 2023, and March 30, 2023\n",
        "query9 = \"\"\"\n",
        "SELECT\n",
        "    s.FirstName || ' ' || s.LastName AS StudentName\n",
        "FROM\n",
        "    Students s\n",
        "WHERE\n",
        "    s.EnrollmentDate BETWEEN '2023-01-01' AND '2023-03-30';\n",
        "\"\"\"\n",
        "df9 = pd.read_sql_query(query9, conn)\n",
        "print(\"Query 9 Results:\")\n",
        "print(df9)"
      ],
      "metadata": {
        "colab": {
          "base_uri": "https://localhost:8080/"
        },
        "id": "wbXWxQQraKsw",
        "outputId": "6e470cba-65a2-4a8f-d8dd-3d06f8374b6b"
      },
      "execution_count": null,
      "outputs": [
        {
          "output_type": "stream",
          "name": "stdout",
          "text": [
            "Query 9 Results:\n",
            "   StudentName\n",
            "0   Raj Sharma\n",
            "1  Priya Singh\n",
            "2   Amit Kumar\n"
          ]
        }
      ]
    },
    {
      "cell_type": "code",
      "source": [
        "# Query 10: Students enrolled in \"Introduction to SQL\" or \"SQL for Data Analysis\" with progress > 70%\n",
        "query10 = \"\"\"\n",
        "SELECT DISTINCT\n",
        "    s.FirstName || ' ' || s.LastName AS StudentName\n",
        "FROM\n",
        "    Students s\n",
        "JOIN\n",
        "    Enrollments e ON s.StudentID = e.StudentID\n",
        "JOIN\n",
        "    Courses c ON e.CourseID = c.CourseID\n",
        "WHERE\n",
        "    (c.CourseName = 'Introduction to SQL' OR c.CourseName = 'SQL for Data Analysis')\n",
        "    AND e.Progress > 0.7;\n",
        "\"\"\"\n",
        "df10 = pd.read_sql_query(query10, conn)\n",
        "print(\"Query 10 Results:\")\n",
        "print(df10)"
      ],
      "metadata": {
        "colab": {
          "base_uri": "https://localhost:8080/"
        },
        "id": "CNqzopUWaYj2",
        "outputId": "c03072e9-ed17-4cca-ca5f-f3db493690a1"
      },
      "execution_count": null,
      "outputs": [
        {
          "output_type": "stream",
          "name": "stdout",
          "text": [
            "Query 10 Results:\n",
            "   StudentName\n",
            "0   Raj Sharma\n",
            "1  Rohit Gupta\n"
          ]
        }
      ]
    },
    {
      "cell_type": "code",
      "source": [
        "# Close the connection\n",
        "conn.close()"
      ],
      "metadata": {
        "id": "lmn8UMOpcT9T"
      },
      "execution_count": null,
      "outputs": []
    }
  ]
}